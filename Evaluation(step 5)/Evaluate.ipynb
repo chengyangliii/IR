{
 "cells": [
  {
   "cell_type": "code",
   "execution_count": 222,
   "metadata": {},
   "outputs": [],
   "source": [
    "import random\n",
    "import time\n",
    "\n",
    "expectedPath = \"Text/Trec_microblog11-qrels.txt\"\n",
    "queryPath = \"Text/topics_MB1-49.txt\""
   ]
  },
  {
   "cell_type": "code",
   "execution_count": 223,
   "metadata": {},
   "outputs": [],
   "source": [
    "def fakeStep3(query:\"Query in String\")->\"Dict in the format tweetID:Score\":\n",
    "    FakeIds=[]\n",
    "    Scores=[]\n",
    "    init = 33823403328671744\n",
    "    for i in range(15):\n",
    "        FakeIds.append(str(29509222337085430+i))\n",
    "#         FakeIds.append(query+\"Fake id \"+str(i))\n",
    "        Scores.append((10-i)/10)\n",
    "    return dict(zip(FakeIds,Scores))"
   ]
  },
  {
   "cell_type": "code",
   "execution_count": 224,
   "metadata": {},
   "outputs": [],
   "source": [
    "def testQueries(path:\"String of test query path\")->\"Dict in the format {queryNum('B001'):queryString('BBC World Service staff cuts')}\":\n",
    "    title = []\n",
    "    num = []\n",
    "    with open(path, \"r\") as f:  \n",
    "        for line in f:        \n",
    "            if line[:7] == \"<title>\":\n",
    "                title.append(line[8:-10])\n",
    "            elif line[:5] == \"<num>\": \n",
    "                num.append(line[15:-8])\n",
    "    return dict(zip(num,title))\n",
    "queriesPair = testQueries(queryPath)\n",
    "# print(queriesPair)"
   ]
  },
  {
   "cell_type": "code",
   "execution_count": 225,
   "metadata": {},
   "outputs": [],
   "source": [
    "def loadResult(queriesPair:\"dict(QueryNum:QueryString)\")->\"Dict{queryNum:Dict_DesendingScoreOrder{tweetid:score}}\":\n",
    "    returnValue = {}\n",
    "    for num, query in queriesPair.items():\n",
    "        result = fakeStep3(query)\n",
    "        sortedResult=dict(sorted(result.items(),key=lambda result:result[1], reverse=True))       \n",
    "        returnValue[(int)(num[2:].lstrip('0'))] = sortedResult\n",
    "    return returnValue\n",
    "    \n",
    "#             rank = 1\n",
    "#             for docNum,score in sortedResult.items():\n",
    "#                 f.write(\"{} {} {} {} {} {}\".format(num[2:].strip('0'), 'Q0', docNum, rank, score,'myRun\\n'))\n",
    "#                 rank+=1\n",
    "result = loadResult(queriesPair)\n",
    "# print(result[1])\n",
    "# print(list(result[1].keys()))\n",
    "# print(result)"
   ]
  },
  {
   "cell_type": "code",
   "execution_count": 226,
   "metadata": {},
   "outputs": [],
   "source": [
    "def loadExpectedResult(expectedPath:\"path of Trec_microblog11-qrels.txt\")->\"Dict{QueryNum:Set{all revelant ids}}\":\n",
    "    title = []\n",
    "    num = []\n",
    "    lastQueryNum = 0\n",
    "    returnValue = {}\n",
    "    with open(expectedPath, \"r\") as ef:  \n",
    "        for line in ef: \n",
    "            lst = line[:-1].split(\"\\t\") #[queryNum, 0, id, revelent]\n",
    "            currentQueryNum = int(lst[0])\n",
    "            if (currentQueryNum != lastQueryNum):\n",
    "                returnValue[currentQueryNum] = set() # add an empty set in the dict\n",
    "            lastQueryNum = currentQueryNum\n",
    "            if lst[3] == '1': # if revelent          \n",
    "                returnValue[currentQueryNum].add(lst[2]) # add id to the set\n",
    "                \n",
    "    return returnValue\n",
    "            \n",
    "        \n",
    "expect = loadExpectedResult(expectedPath)\n",
    "# print(expect)\n",
    "# print(expect[1])"
   ]
  },
  {
   "cell_type": "code",
   "execution_count": 227,
   "metadata": {},
   "outputs": [],
   "source": [
    "def computeMAP(result:\"Dict{queryNum:Dict_DesendingScoreOrder{tweetid:score}}\",expect:\"Dict{QueryNum:Set{all revelant ids}}\",\n",
    "               first10:\"set True if compute AP only for first 10\"=False) -> \"MAP or P@10\":\n",
    "    \n",
    "    APs=[]\n",
    "    for queryNum,resultMap in result.items():\n",
    "\n",
    "        expectForTheQuery = expect[queryNum]\n",
    "        ids = list(resultMap.keys())\n",
    "        revelant = 1\n",
    "        relevantDocument = []\n",
    "        \n",
    "        for i in range(1, min(11, len(ids)+1) if first10 else len(ids)+1):\n",
    "            if ids[i-1] in expectForTheQuery:\n",
    "                relevantDocument.append(revelant/i)\n",
    "                revelant+=1\n",
    "        if len(relevantDocument) != 0:\n",
    "            AP = sum(relevantDocument) / len(relevantDocument)\n",
    "        else:\n",
    "            AP = 0\n",
    "        APs.append(round(AP, 4))\n",
    "        \n",
    "    MAP = sum(APs) / len(APs)\n",
    "    return round(MAP, 4)\n",
    "\n",
    "# print(computeMAP(result,expect))\n",
    "# print(computeMAP(result,expect,first10=True))\n",
    "    "
   ]
  },
  {
   "cell_type": "code",
   "execution_count": 228,
   "metadata": {},
   "outputs": [
    {
     "name": "stdout",
     "output_type": "stream",
     "text": [
      "0.0019\n",
      "0.0\n"
     ]
    }
   ],
   "source": [
    "if __name__ == '__main__':\n",
    "    queriesPair = testQueries(queryPath)\n",
    "    result = loadResult(queriesPair)\n",
    "    expect = loadExpectedResult(expectedPath)\n",
    "    print(computeMAP(result,expect))\n",
    "    print(computeMAP(result,expect,first10=True))"
   ]
  },
  {
   "cell_type": "code",
   "execution_count": null,
   "metadata": {},
   "outputs": [],
   "source": []
  },
  {
   "cell_type": "code",
   "execution_count": null,
   "metadata": {},
   "outputs": [],
   "source": []
  },
  {
   "cell_type": "code",
   "execution_count": null,
   "metadata": {},
   "outputs": [],
   "source": []
  },
  {
   "cell_type": "code",
   "execution_count": null,
   "metadata": {},
   "outputs": [],
   "source": []
  },
  {
   "cell_type": "code",
   "execution_count": null,
   "metadata": {},
   "outputs": [],
   "source": []
  }
 ],
 "metadata": {
  "kernelspec": {
   "display_name": "Python 3",
   "language": "python",
   "name": "python3"
  },
  "language_info": {
   "codemirror_mode": {
    "name": "ipython",
    "version": 3
   },
   "file_extension": ".py",
   "mimetype": "text/x-python",
   "name": "python",
   "nbconvert_exporter": "python",
   "pygments_lexer": "ipython3",
   "version": "3.7.5"
  }
 },
 "nbformat": 4,
 "nbformat_minor": 2
}
